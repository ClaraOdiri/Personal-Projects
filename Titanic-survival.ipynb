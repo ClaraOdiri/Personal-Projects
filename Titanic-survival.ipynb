{
    "cells": [
        {
            "metadata": {},
            "cell_type": "code",
            "source": "# linear algebra\nimport numpy as np \n\n# data processing\nimport pandas as pd \n\n# data visualization\nimport seaborn as sns\n%matplotlib inline\nfrom matplotlib import pyplot as plt\nfrom matplotlib import style\n\n# Algorithms\nfrom sklearn import linear_model\nfrom sklearn.linear_model import LogisticRegression\nfrom sklearn.ensemble import RandomForestClassifier\nfrom sklearn.linear_model import Perceptron\nfrom sklearn.linear_model import SGDClassifier\nfrom sklearn.tree import DecisionTreeClassifier\nfrom sklearn.neighbors import KNeighborsClassifier\nfrom sklearn.svm import SVC, LinearSVC\nfrom sklearn.naive_bayes import GaussianNB",
            "execution_count": 1,
            "outputs": []
        },
        {
            "metadata": {},
            "cell_type": "code",
            "source": "# Read in train data as pandas dataframe and display first 5 rows\ntrainData = pd.read_csv('train.csv')\ntestData = pd.read_csv('test.csv')",
            "execution_count": 8,
            "outputs": []
        },
        {
            "metadata": {},
            "cell_type": "code",
            "source": "trainData.info()",
            "execution_count": 3,
            "outputs": [
                {
                    "name": "stdout",
                    "output_type": "stream",
                    "text": "<class 'pandas.core.frame.DataFrame'>\nRangeIndex: 891 entries, 0 to 890\nData columns (total 12 columns):\nPassengerId    891 non-null int64\nSurvived       891 non-null int64\nPclass         891 non-null int64\nName           891 non-null object\nSex            891 non-null object\nAge            714 non-null float64\nSibSp          891 non-null int64\nParch          891 non-null int64\nTicket         891 non-null object\nFare           891 non-null float64\nCabin          204 non-null object\nEmbarked       889 non-null object\ndtypes: float64(2), int64(5), object(5)\nmemory usage: 83.6+ KB\n"
                }
            ]
        },
        {
            "metadata": {},
            "cell_type": "markdown",
            "source": "From the above information, some of the features have missing values"
        },
        {
            "metadata": {},
            "cell_type": "code",
            "source": "trainData.describe()",
            "execution_count": 4,
            "outputs": [
                {
                    "data": {
                        "text/html": "<div>\n<style scoped>\n    .dataframe tbody tr th:only-of-type {\n        vertical-align: middle;\n    }\n\n    .dataframe tbody tr th {\n        vertical-align: top;\n    }\n\n    .dataframe thead th {\n        text-align: right;\n    }\n</style>\n<table border=\"1\" class=\"dataframe\">\n  <thead>\n    <tr style=\"text-align: right;\">\n      <th></th>\n      <th>PassengerId</th>\n      <th>Survived</th>\n      <th>Pclass</th>\n      <th>Age</th>\n      <th>SibSp</th>\n      <th>Parch</th>\n      <th>Fare</th>\n    </tr>\n  </thead>\n  <tbody>\n    <tr>\n      <th>count</th>\n      <td>891.000000</td>\n      <td>891.000000</td>\n      <td>891.000000</td>\n      <td>714.000000</td>\n      <td>891.000000</td>\n      <td>891.000000</td>\n      <td>891.000000</td>\n    </tr>\n    <tr>\n      <th>mean</th>\n      <td>446.000000</td>\n      <td>0.383838</td>\n      <td>2.308642</td>\n      <td>29.699118</td>\n      <td>0.523008</td>\n      <td>0.381594</td>\n      <td>32.204208</td>\n    </tr>\n    <tr>\n      <th>std</th>\n      <td>257.353842</td>\n      <td>0.486592</td>\n      <td>0.836071</td>\n      <td>14.526497</td>\n      <td>1.102743</td>\n      <td>0.806057</td>\n      <td>49.693429</td>\n    </tr>\n    <tr>\n      <th>min</th>\n      <td>1.000000</td>\n      <td>0.000000</td>\n      <td>1.000000</td>\n      <td>0.420000</td>\n      <td>0.000000</td>\n      <td>0.000000</td>\n      <td>0.000000</td>\n    </tr>\n    <tr>\n      <th>25%</th>\n      <td>223.500000</td>\n      <td>0.000000</td>\n      <td>2.000000</td>\n      <td>20.125000</td>\n      <td>0.000000</td>\n      <td>0.000000</td>\n      <td>7.910400</td>\n    </tr>\n    <tr>\n      <th>50%</th>\n      <td>446.000000</td>\n      <td>0.000000</td>\n      <td>3.000000</td>\n      <td>28.000000</td>\n      <td>0.000000</td>\n      <td>0.000000</td>\n      <td>14.454200</td>\n    </tr>\n    <tr>\n      <th>75%</th>\n      <td>668.500000</td>\n      <td>1.000000</td>\n      <td>3.000000</td>\n      <td>38.000000</td>\n      <td>1.000000</td>\n      <td>0.000000</td>\n      <td>31.000000</td>\n    </tr>\n    <tr>\n      <th>max</th>\n      <td>891.000000</td>\n      <td>1.000000</td>\n      <td>3.000000</td>\n      <td>80.000000</td>\n      <td>8.000000</td>\n      <td>6.000000</td>\n      <td>512.329200</td>\n    </tr>\n  </tbody>\n</table>\n</div>",
                        "text/plain": "       PassengerId    Survived      Pclass         Age       SibSp  \\\ncount   891.000000  891.000000  891.000000  714.000000  891.000000   \nmean    446.000000    0.383838    2.308642   29.699118    0.523008   \nstd     257.353842    0.486592    0.836071   14.526497    1.102743   \nmin       1.000000    0.000000    1.000000    0.420000    0.000000   \n25%     223.500000    0.000000    2.000000   20.125000    0.000000   \n50%     446.000000    0.000000    3.000000   28.000000    0.000000   \n75%     668.500000    1.000000    3.000000   38.000000    1.000000   \nmax     891.000000    1.000000    3.000000   80.000000    8.000000   \n\n            Parch        Fare  \ncount  891.000000  891.000000  \nmean     0.381594   32.204208  \nstd      0.806057   49.693429  \nmin      0.000000    0.000000  \n25%      0.000000    7.910400  \n50%      0.000000   14.454200  \n75%      0.000000   31.000000  \nmax      6.000000  512.329200  "
                    },
                    "execution_count": 4,
                    "metadata": {},
                    "output_type": "execute_result"
                }
            ]
        },
        {
            "metadata": {},
            "cell_type": "code",
            "source": "trainData.head(5)",
            "execution_count": 5,
            "outputs": [
                {
                    "data": {
                        "text/html": "<div>\n<style scoped>\n    .dataframe tbody tr th:only-of-type {\n        vertical-align: middle;\n    }\n\n    .dataframe tbody tr th {\n        vertical-align: top;\n    }\n\n    .dataframe thead th {\n        text-align: right;\n    }\n</style>\n<table border=\"1\" class=\"dataframe\">\n  <thead>\n    <tr style=\"text-align: right;\">\n      <th></th>\n      <th>PassengerId</th>\n      <th>Survived</th>\n      <th>Pclass</th>\n      <th>Name</th>\n      <th>Sex</th>\n      <th>Age</th>\n      <th>SibSp</th>\n      <th>Parch</th>\n      <th>Ticket</th>\n      <th>Fare</th>\n      <th>Cabin</th>\n      <th>Embarked</th>\n    </tr>\n  </thead>\n  <tbody>\n    <tr>\n      <th>0</th>\n      <td>1</td>\n      <td>0</td>\n      <td>3</td>\n      <td>Braund, Mr. Owen Harris</td>\n      <td>male</td>\n      <td>22.0</td>\n      <td>1</td>\n      <td>0</td>\n      <td>A/5 21171</td>\n      <td>7.2500</td>\n      <td>NaN</td>\n      <td>S</td>\n    </tr>\n    <tr>\n      <th>1</th>\n      <td>2</td>\n      <td>1</td>\n      <td>1</td>\n      <td>Cumings, Mrs. John Bradley (Florence Briggs Th...</td>\n      <td>female</td>\n      <td>38.0</td>\n      <td>1</td>\n      <td>0</td>\n      <td>PC 17599</td>\n      <td>71.2833</td>\n      <td>C85</td>\n      <td>C</td>\n    </tr>\n    <tr>\n      <th>2</th>\n      <td>3</td>\n      <td>1</td>\n      <td>3</td>\n      <td>Heikkinen, Miss. Laina</td>\n      <td>female</td>\n      <td>26.0</td>\n      <td>0</td>\n      <td>0</td>\n      <td>STON/O2. 3101282</td>\n      <td>7.9250</td>\n      <td>NaN</td>\n      <td>S</td>\n    </tr>\n    <tr>\n      <th>3</th>\n      <td>4</td>\n      <td>1</td>\n      <td>1</td>\n      <td>Futrelle, Mrs. Jacques Heath (Lily May Peel)</td>\n      <td>female</td>\n      <td>35.0</td>\n      <td>1</td>\n      <td>0</td>\n      <td>113803</td>\n      <td>53.1000</td>\n      <td>C123</td>\n      <td>S</td>\n    </tr>\n    <tr>\n      <th>4</th>\n      <td>5</td>\n      <td>0</td>\n      <td>3</td>\n      <td>Allen, Mr. William Henry</td>\n      <td>male</td>\n      <td>35.0</td>\n      <td>0</td>\n      <td>0</td>\n      <td>373450</td>\n      <td>8.0500</td>\n      <td>NaN</td>\n      <td>S</td>\n    </tr>\n  </tbody>\n</table>\n</div>",
                        "text/plain": "   PassengerId  Survived  Pclass  \\\n0            1         0       3   \n1            2         1       1   \n2            3         1       3   \n3            4         1       1   \n4            5         0       3   \n\n                                                Name     Sex   Age  SibSp  \\\n0                            Braund, Mr. Owen Harris    male  22.0      1   \n1  Cumings, Mrs. John Bradley (Florence Briggs Th...  female  38.0      1   \n2                             Heikkinen, Miss. Laina  female  26.0      0   \n3       Futrelle, Mrs. Jacques Heath (Lily May Peel)  female  35.0      1   \n4                           Allen, Mr. William Henry    male  35.0      0   \n\n   Parch            Ticket     Fare Cabin Embarked  \n0      0         A/5 21171   7.2500   NaN        S  \n1      0          PC 17599  71.2833   C85        C  \n2      0  STON/O2. 3101282   7.9250   NaN        S  \n3      0            113803  53.1000  C123        S  \n4      0            373450   8.0500   NaN        S  "
                    },
                    "execution_count": 5,
                    "metadata": {},
                    "output_type": "execute_result"
                }
            ]
        },
        {
            "metadata": {},
            "cell_type": "markdown",
            "source": "From the table above, we need to one-hot encode some features into numeric ones, so that the machine learning algorithms can process them. Some of the features have widely different ranges, therefore we need to scale the features. We can also spot some more features, that contain missing values (NaN = not a number), that we need to deal with."
        },
        {
            "metadata": {},
            "cell_type": "markdown",
            "source": "The Embarked feature has only 2 missing values, which can easily be filled. It will be much more tricky, to deal with the \u2018Age\u2019 feature, which has 177 missing values. The \u2018Cabin\u2019 feature needs further investigation, but it looks like we might want to drop it from the dataset, since 77 % of it is missing."
        },
        {
            "metadata": {},
            "cell_type": "code",
            "source": "trainData.columns.values",
            "execution_count": 7,
            "outputs": [
                {
                    "data": {
                        "text/plain": "array(['PassengerId', 'Survived', 'Pclass', 'Name', 'Sex', 'Age', 'SibSp',\n       'Parch', 'Ticket', 'Fare', 'Cabin', 'Embarked'], dtype=object)"
                    },
                    "execution_count": 7,
                    "metadata": {},
                    "output_type": "execute_result"
                }
            ]
        },
        {
            "metadata": {},
            "cell_type": "markdown",
            "source": "## Data Preprocessing"
        },
        {
            "metadata": {},
            "cell_type": "markdown",
            "source": "### Missing Data"
        },
        {
            "metadata": {},
            "cell_type": "code",
            "source": "# Number of columns with missing values\ntotal = trainData.isnull().sum().sort_values(ascending=False)\npercent_1 = trainData.isnull().sum()/trainData.isnull().count()*100\npercent_2 = (round(percent_1, 1)).sort_values(ascending=False)\nmissing_data = pd.concat([total, percent_2], axis=1, keys=['Total', '%'])\nmissing_data.head()",
            "execution_count": 6,
            "outputs": [
                {
                    "data": {
                        "text/html": "<div>\n<style scoped>\n    .dataframe tbody tr th:only-of-type {\n        vertical-align: middle;\n    }\n\n    .dataframe tbody tr th {\n        vertical-align: top;\n    }\n\n    .dataframe thead th {\n        text-align: right;\n    }\n</style>\n<table border=\"1\" class=\"dataframe\">\n  <thead>\n    <tr style=\"text-align: right;\">\n      <th></th>\n      <th>Total</th>\n      <th>%</th>\n    </tr>\n  </thead>\n  <tbody>\n    <tr>\n      <th>Cabin</th>\n      <td>687</td>\n      <td>77.1</td>\n    </tr>\n    <tr>\n      <th>Age</th>\n      <td>177</td>\n      <td>19.9</td>\n    </tr>\n    <tr>\n      <th>Embarked</th>\n      <td>2</td>\n      <td>0.2</td>\n    </tr>\n    <tr>\n      <th>Fare</th>\n      <td>0</td>\n      <td>0.0</td>\n    </tr>\n    <tr>\n      <th>Ticket</th>\n      <td>0</td>\n      <td>0.0</td>\n    </tr>\n  </tbody>\n</table>\n</div>",
                        "text/plain": "          Total     %\nCabin       687  77.1\nAge         177  19.9\nEmbarked      2   0.2\nFare          0   0.0\nTicket        0   0.0"
                    },
                    "execution_count": 6,
                    "metadata": {},
                    "output_type": "execute_result"
                }
            ]
        },
        {
            "metadata": {},
            "cell_type": "markdown",
            "source": "#### Carbin: "
        },
        {
            "metadata": {},
            "cell_type": "code",
            "source": "# Drop the Carbin feature in both train and test dataset, since it has 77% of its data missing\ntrainData = trainData.drop(['Cabin'], axis=1)\ntestData = testData.drop(['Cabin'], axis=1)",
            "execution_count": 10,
            "outputs": []
        },
        {
            "metadata": {},
            "cell_type": "markdown",
            "source": "#### Age:"
        },
        {
            "metadata": {},
            "cell_type": "code",
            "source": "# Create an array that contains random numbers, which are computed based on the mean age value in regards to the \n# standard deviation and is_null\n\ndata = [trainData, testData]\n\nfor dataset in data:\n    mean = trainData[\"Age\"].mean()\n    std = testData[\"Age\"].std()\n    is_null = dataset[\"Age\"].isnull().sum()\n\n# compute random numbers between the mean, std and is_null\n    rand_age = np.random.randint(mean - std, mean + std, size = is_null)\n\n# fill NaN values in Age column with random values generated\n    age_slice = dataset[\"Age\"].copy()\n    age_slice[np.isnan(age_slice)] = rand_age\n    dataset[\"Age\"] = age_slice\n    dataset[\"Age\"] = trainData[\"Age\"].astype(int)\n    \ntrainData[\"Age\"].isnull().sum()\n",
            "execution_count": 14,
            "outputs": [
                {
                    "data": {
                        "text/plain": "0"
                    },
                    "execution_count": 14,
                    "metadata": {},
                    "output_type": "execute_result"
                }
            ]
        },
        {
            "metadata": {},
            "cell_type": "markdown",
            "source": "#### Embarked: "
        },
        {
            "metadata": {},
            "cell_type": "code",
            "source": "#Since the Embarked feature has only 2 missing values, we will just fill these with the most common one.\n\ntrainData['Embarked'].describe()",
            "execution_count": 15,
            "outputs": [
                {
                    "data": {
                        "text/plain": "count     889\nunique      3\ntop         S\nfreq      644\nName: Embarked, dtype: object"
                    },
                    "execution_count": 15,
                    "metadata": {},
                    "output_type": "execute_result"
                }
            ]
        },
        {
            "metadata": {},
            "cell_type": "code",
            "source": "common_value = 'S'\ndata = [trainData, testData]\n\nfor dataset in data:\n    dataset['Embarked'] = dataset['Embarked'].fillna(common_value)",
            "execution_count": 16,
            "outputs": []
        },
        {
            "metadata": {},
            "cell_type": "markdown",
            "source": "### Converting features"
        },
        {
            "metadata": {},
            "cell_type": "code",
            "source": "trainData.info()",
            "execution_count": 19,
            "outputs": [
                {
                    "name": "stdout",
                    "output_type": "stream",
                    "text": "<class 'pandas.core.frame.DataFrame'>\nRangeIndex: 891 entries, 0 to 890\nData columns (total 11 columns):\nPassengerId    891 non-null int64\nSurvived       891 non-null int64\nPclass         891 non-null int64\nName           891 non-null object\nSex            891 non-null object\nAge            891 non-null int32\nSibSp          891 non-null int64\nParch          891 non-null int64\nTicket         891 non-null object\nFare           891 non-null float64\nEmbarked       891 non-null object\ndtypes: float64(1), int32(1), int64(5), object(4)\nmemory usage: 73.2+ KB\n"
                }
            ]
        },
        {
            "metadata": {},
            "cell_type": "markdown",
            "source": "#### Fare: "
        },
        {
            "metadata": {},
            "cell_type": "code",
            "source": "# We need to convert 'Fare' to integer.\nfor dataset in data:\n    dataset['Fare'] = dataset['Fare'].fillna(0)\n    dataset['Fare'] = dataset['Fare'].astype(int)",
            "execution_count": 21,
            "outputs": []
        },
        {
            "metadata": {},
            "cell_type": "markdown",
            "source": "#### Name:"
        },
        {
            "metadata": {},
            "cell_type": "code",
            "source": "#We will use the Name feature to extract the Titles from the Name, so that we can build a new feature out of that.\n\ndata = [trainData, testData]\ntitles = {\"Mr\": 1, \"Miss\": 2, \"Mrs\": 3, \"Master\": 4, \"Rare\": 5}\n\nfor dataset in data:\n    # extract titles\n    dataset['Title'] = dataset.Name.str.extract(' ([A-Za-z]+)\\.', expand=False)\n    # replace titles with a more common title or as Rare\n    dataset['Title'] = dataset['Title'].replace(['Lady', 'Countess','Capt', 'Col','Don', 'Dr',\\\n                                            'Major', 'Rev', 'Sir', 'Jonkheer', 'Dona'], 'Rare')\n    dataset['Title'] = dataset['Title'].replace('Mlle', 'Miss')\n    dataset['Title'] = dataset['Title'].replace('Ms', 'Miss')\n    dataset['Title'] = dataset['Title'].replace('Mme', 'Mrs')\n    # convert titles into numbers\n    dataset['Title'] = dataset['Title'].map(titles)\n    # filling NaN with 0, to get safe\n    dataset['Title'] = dataset['Title'].fillna(0)\ntrainData = trainData.drop(['Name'], axis=1)\ntestData = testData.drop(['Name'], axis=1)",
            "execution_count": 22,
            "outputs": []
        },
        {
            "metadata": {},
            "cell_type": "markdown",
            "source": "#### Tickets:"
        },
        {
            "metadata": {},
            "cell_type": "code",
            "source": "trainData['Ticket'].describe()\n",
            "execution_count": 24,
            "outputs": [
                {
                    "data": {
                        "text/plain": "count        891\nunique       681\ntop       347082\nfreq           7\nName: Ticket, dtype: object"
                    },
                    "execution_count": 24,
                    "metadata": {},
                    "output_type": "execute_result"
                }
            ]
        },
        {
            "metadata": {},
            "cell_type": "code",
            "source": "#Also drop the Ticket feature since it has 681 unique tickets\ntrainData = trainData.drop(['Ticket'], axis=1)\ntestData = testData.drop(['Ticket'], axis=1)",
            "execution_count": 25,
            "outputs": []
        },
        {
            "metadata": {},
            "cell_type": "markdown",
            "source": "#### Sex:"
        },
        {
            "metadata": {},
            "cell_type": "code",
            "source": "#Convert Sex feature to numeric\n\ngenders = {\"male\": 0, \"female\": 1}\ndata = [trainData, testData]\n\nfor dataset in data:\n    dataset['Sex'] = dataset['Sex'].map(genders)",
            "execution_count": 26,
            "outputs": []
        },
        {
            "metadata": {},
            "cell_type": "markdown",
            "source": "#### Embarked:"
        },
        {
            "metadata": {},
            "cell_type": "code",
            "source": "#Convert Embarked feature to numeric\n\nports = {\"S\": 0, \"C\": 1, \"Q\": 2}\ndata = [trainData, testData]\n\nfor dataset in data:\n    dataset['Embarked'] = dataset['Embarked'].map(ports)",
            "execution_count": 27,
            "outputs": []
        },
        {
            "metadata": {},
            "cell_type": "code",
            "source": "trainData.columns",
            "execution_count": 30,
            "outputs": [
                {
                    "data": {
                        "text/plain": "Index(['PassengerId', 'Survived', 'Pclass', 'Sex', 'Age', 'SibSp', 'Parch',\n       'Fare', 'Embarked', 'Title'],\n      dtype='object')"
                    },
                    "execution_count": 30,
                    "metadata": {},
                    "output_type": "execute_result"
                }
            ]
        },
        {
            "metadata": {},
            "cell_type": "code",
            "source": "features = ['PassengerId', 'Pclass', 'Sex', 'Age', 'SibSp', 'Parch','Fare', 'Embarked', 'Title']\ntrain_X = trainData[features]\ntrain_y = trainData.Survived\n\ntest_X = testData[features]\n",
            "execution_count": 36,
            "outputs": []
        },
        {
            "metadata": {},
            "cell_type": "markdown",
            "source": "### Build Random Forest Model"
        },
        {
            "metadata": {},
            "cell_type": "code",
            "source": "model = RandomForestClassifier(random_state = 1)\nmodel.fit(train_X, train_y)\npredictions = model.predict(test_X)",
            "execution_count": 38,
            "outputs": [
                {
                    "name": "stderr",
                    "output_type": "stream",
                    "text": "C:\\Users\\USER\\AppData\\Local\\Programs\\Python\\Python37\\lib\\site-packages\\sklearn\\ensemble\\forest.py:246: FutureWarning: The default value of n_estimators will change from 10 in version 0.20 to 100 in 0.22.\n  \"10 in version 0.20 to 100 in 0.22.\", FutureWarning)\n"
                }
            ]
        },
        {
            "metadata": {},
            "cell_type": "code",
            "source": "#Put features and prediction in dataframe for submission\nSubmission = pd.DataFrame({'PassengerId':testData.PassengerId, 'Survived':predictions})",
            "execution_count": 40,
            "outputs": []
        },
        {
            "metadata": {},
            "cell_type": "code",
            "source": "#Put submission in csv file for kaggle submission\nSubmission.to_csv('DSNT1.csv', index = False)",
            "execution_count": 43,
            "outputs": []
        },
        {
            "metadata": {},
            "cell_type": "markdown",
            "source": "### Tune Model"
        },
        {
            "metadata": {},
            "cell_type": "code",
            "source": "model = RandomForestClassifier( n_estimators = 1000, criterion = 'mae', random_state = 1)\nmy_model.fit(train_X, train_y)\nmy_predictions = my_model.predict(test_X)",
            "execution_count": 59,
            "outputs": [
                {
                    "name": "stdout",
                    "output_type": "stream",
                    "text": "[14:22:39] WARNING: C:/Jenkins/workspace/xgboost-win64_release_0.90/src/objective/regression_obj.cu:152: reg:linear is now deprecated in favor of reg:squarederror.\n"
                }
            ]
        },
        {
            "metadata": {},
            "cell_type": "code",
            "source": "Submission1 = pd.DataFrame({'PassengerId':testData.PassengerId, 'Survived':my_predictions})\n\nSubmission1.to_csv('DSNT3.csv', index = False)",
            "execution_count": 63,
            "outputs": []
        },
        {
            "metadata": {},
            "cell_type": "markdown",
            "source": "### Build Logistic Regression Model"
        },
        {
            "metadata": {},
            "cell_type": "code",
            "source": "logreg = LogisticRegression()\nlogreg.fit(train_X, train_y)\n\nY_pred = logreg.predict(test_X)\n\nacc_log = round(logreg.score(train_X, train_y) * 100, 2)",
            "execution_count": 62,
            "outputs": [
                {
                    "name": "stderr",
                    "output_type": "stream",
                    "text": "C:\\Users\\USER\\AppData\\Local\\Programs\\Python\\Python37\\lib\\site-packages\\sklearn\\linear_model\\logistic.py:433: FutureWarning: Default solver will be changed to 'lbfgs' in 0.22. Specify a solver to silence this warning.\n  FutureWarning)\n"
                }
            ]
        },
        {
            "metadata": {},
            "cell_type": "code",
            "source": "Submit = pd.DataFrame({'PassengerId':testData.PassengerId, 'Survived':Y_pred})\n\nSubmit.to_csv('DSNT4.csv', index = False)",
            "execution_count": 64,
            "outputs": []
        },
        {
            "metadata": {},
            "cell_type": "markdown",
            "source": "#### Test new Random Forest Parameters"
        },
        {
            "metadata": {},
            "cell_type": "code",
            "source": "# Random Forest\nrandom_forest = RandomForestClassifier(criterion = \"gini\", min_samples_leaf = 1, min_samples_split = 10, n_estimators=100, max_features='auto', oob_score=True, random_state=1, n_jobs=-1)\n\nrandom_forest.fit(train_X, train_y)\n\nY_prediction = random_forest.predict(test_X)\n\nrandom_forest.score(train_X, train_y)\n\nprint(\"oob score:\", round(random_forest.oob_score_, 4)*100, \"%\")",
            "execution_count": 66,
            "outputs": [
                {
                    "name": "stdout",
                    "output_type": "stream",
                    "text": "oob score: 82.49 %\n"
                }
            ]
        },
        {
            "metadata": {},
            "cell_type": "code",
            "source": "Submits = pd.DataFrame({'PassengerId':testData.PassengerId, 'Survived':Y_prediction})\n\nSubmits.to_csv('DSNT5.csv', index = False)",
            "execution_count": 67,
            "outputs": []
        },
        {
            "metadata": {},
            "cell_type": "markdown",
            "source": "### Another RF Tuning"
        },
        {
            "metadata": {},
            "cell_type": "code",
            "source": "m = RandomForestClassifier(criterion = \"gini\", min_samples_leaf = 3, min_samples_split = 7, n_estimators=1000, max_features='auto', oob_score=True, random_state=0, n_jobs=-1)\n\nm.fit(train_X, train_y)\n\nm_prediction = m.predict(test_X)\n\nm.score(train_X, train_y)\n\nprint(\"oob score:\", round(m.oob_score_, 4)*100, \"%\")",
            "execution_count": 92,
            "outputs": [
                {
                    "name": "stdout",
                    "output_type": "stream",
                    "text": "oob score: 82.49 %\n"
                }
            ]
        },
        {
            "metadata": {},
            "cell_type": "code",
            "source": "m_pred = m.predict(test_X)\n",
            "execution_count": 93,
            "outputs": []
        },
        {
            "metadata": {},
            "cell_type": "code",
            "source": "Sub = pd.DataFrame({'PassengerId':testData.PassengerId, 'Survived':m_pred})\n\nSub.to_csv('DSNT6.csv', index = False)",
            "execution_count": 81,
            "outputs": []
        },
        {
            "metadata": {},
            "cell_type": "markdown",
            "source": "#### End"
        }
    ],
    "metadata": {
        "kernelspec": {
            "name": "python3",
            "display_name": "Python 3.6",
            "language": "python"
        },
        "language_info": {
            "name": "python",
            "version": "3.6.8",
            "mimetype": "text/x-python",
            "codemirror_mode": {
                "name": "ipython",
                "version": 3
            },
            "pygments_lexer": "ipython3",
            "nbconvert_exporter": "python",
            "file_extension": ".py"
        }
    },
    "nbformat": 4,
    "nbformat_minor": 2
}